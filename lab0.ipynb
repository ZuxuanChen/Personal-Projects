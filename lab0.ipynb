{
  "nbformat": 4,
  "nbformat_minor": 0,
  "metadata": {
    "colab": {
      "provenance": [],
      "include_colab_link": true
    },
    "kernelspec": {
      "name": "python3",
      "display_name": "Python 3"
    },
    "language_info": {
      "name": "python"
    }
  },
  "cells": [
    {
      "cell_type": "markdown",
      "metadata": {
        "id": "view-in-github",
        "colab_type": "text"
      },
      "source": [
        "<a href=\"https://colab.research.google.com/github/ZuxuanChen/Personal-Projects/blob/master/lab0.ipynb\" target=\"_parent\"><img src=\"https://colab.research.google.com/assets/colab-badge.svg\" alt=\"Open In Colab\"/></a>"
      ]
    },
    {
      "cell_type": "markdown",
      "source": [
        "#Introduction to Basic Python and Pandas Concepts"
      ],
      "metadata": {
        "id": "fhxHa3MiUp3u"
      }
    },
    {
      "cell_type": "markdown",
      "source": [
        "In every python code, we have to import relavant libraries that we are working with. Otherwise, we cannot use any of the funnctions from these libraries!!"
      ],
      "metadata": {
        "id": "U8Bbl4WUOFCt"
      }
    },
    {
      "cell_type": "code",
      "execution_count": null,
      "metadata": {
        "id": "nC_0LJA0F8fQ"
      },
      "outputs": [],
      "source": [
        "import pandas as pd\n",
        "import numpy as np\n",
        "import matplotlib.pyplot as plt"
      ]
    },
    {
      "cell_type": "markdown",
      "source": [
        "Here are some of the common data types that we commonly work with in this class:\n",
        "python lists, python dictionaries:"
      ],
      "metadata": {
        "id": "wUG4Lz5JOVOp"
      }
    },
    {
      "cell_type": "code",
      "source": [
        "#some example lists:\n",
        "name_list = [\"Marie\", \"Albert\", \"Grace\", \"Donald\", \"Joe\", \"Joe\"]\n",
        "last_name_list = [\"Curie\",\"Einstein\", \"Hopper\", \"Trump\",\"Biden\",\"Jonas\"]\n",
        "place_of_birth_list = [\"Poland\",\"Germany\",\"USA\",\"USA\", \"USA\", \"USA\"]\n",
        "gender_list = [\"F\", \"M\", \"F\", \"M\", \"M\", \"M\"]\n",
        "height_list = [155, 160, 165, 170, 175, 160]\n",
        "age_list = [66,76,85,77,80, 34]\n",
        "\n",
        "#example python dictionary. The keys in this dictionary are name, last_name, place_of_birth, and age. The values are the lists above.\n",
        "#The values in a python dict can be any data type, not just lists!\n",
        "\n",
        "data_dict = {\"name\": name_list, \"last_name\":last_name_list, \"place_of_birth\":place_of_birth_list, \"age\":age_list, \"gender\":gender_list, \"height\":height_list}\n"
      ],
      "metadata": {
        "id": "ZCHVHOw2GCHt"
      },
      "execution_count": null,
      "outputs": []
    },
    {
      "cell_type": "markdown",
      "source": [
        "The cool thing about python dictionaries is that given a key, you can get the values back!"
      ],
      "metadata": {
        "id": "XTS8LcULPLdL"
      }
    },
    {
      "cell_type": "code",
      "source": [
        "data_dict[\"name\"]"
      ],
      "metadata": {
        "id": "--mRaC4SPK3i",
        "outputId": "cd4eb588-8b2d-4425-c083-0e57950c02e1",
        "colab": {
          "base_uri": "https://localhost:8080/",
          "height": 181
        }
      },
      "execution_count": 4,
      "outputs": [
        {
          "output_type": "error",
          "ename": "NameError",
          "evalue": "ignored",
          "traceback": [
            "\u001b[0;31m---------------------------------------------------------------------------\u001b[0m",
            "\u001b[0;31mNameError\u001b[0m                                 Traceback (most recent call last)",
            "\u001b[0;32m<ipython-input-4-ba67c5979c5c>\u001b[0m in \u001b[0;36m<cell line: 1>\u001b[0;34m()\u001b[0m\n\u001b[0;32m----> 1\u001b[0;31m \u001b[0mdata_dict\u001b[0m\u001b[0;34m[\u001b[0m\u001b[0;34m\"name\"\u001b[0m\u001b[0;34m]\u001b[0m\u001b[0;34m\u001b[0m\u001b[0;34m\u001b[0m\u001b[0m\n\u001b[0m",
            "\u001b[0;31mNameError\u001b[0m: name 'data_dict' is not defined"
          ]
        }
      ]
    },
    {
      "cell_type": "markdown",
      "source": [
        "Let's convert out dictionariy to tabular data! we will use pandas library in all of our homework assignments so make sure you are comfortable using it."
      ],
      "metadata": {
        "id": "JgekAvFHPlwv"
      }
    },
    {
      "cell_type": "code",
      "source": [
        "df1 = pd.DataFrame(data_dict)"
      ],
      "metadata": {
        "id": "BjfdB4PDGHSJ"
      },
      "execution_count": null,
      "outputs": []
    },
    {
      "cell_type": "markdown",
      "source": [
        "### 1- getting to know our dataset"
      ],
      "metadata": {
        "id": "wWcQ9ek1ee7L"
      }
    },
    {
      "cell_type": "code",
      "source": [
        "#let's print all of the table\n",
        "df1"
      ],
      "metadata": {
        "id": "Tc5Kt3JnQBRc",
        "outputId": "8e096b5e-6f19-4aaf-f7ca-6c9fa082fdb5",
        "colab": {
          "base_uri": "https://localhost:8080/",
          "height": 199
        }
      },
      "execution_count": 5,
      "outputs": [
        {
          "output_type": "error",
          "ename": "NameError",
          "evalue": "ignored",
          "traceback": [
            "\u001b[0;31m---------------------------------------------------------------------------\u001b[0m",
            "\u001b[0;31mNameError\u001b[0m                                 Traceback (most recent call last)",
            "\u001b[0;32m<ipython-input-5-591195b9c51a>\u001b[0m in \u001b[0;36m<cell line: 2>\u001b[0;34m()\u001b[0m\n\u001b[1;32m      1\u001b[0m \u001b[0;31m#let's print all of the table\u001b[0m\u001b[0;34m\u001b[0m\u001b[0;34m\u001b[0m\u001b[0m\n\u001b[0;32m----> 2\u001b[0;31m \u001b[0mdf1\u001b[0m\u001b[0;34m\u001b[0m\u001b[0;34m\u001b[0m\u001b[0m\n\u001b[0m",
            "\u001b[0;31mNameError\u001b[0m: name 'df1' is not defined"
          ]
        }
      ]
    },
    {
      "cell_type": "code",
      "source": [
        "#let's print thee first 3 rows\n",
        "print(df1.head(3))"
      ],
      "metadata": {
        "id": "UiF8UtlcHI7E",
        "outputId": "ad8cc78b-b8e6-4110-92a0-242d9f0d8f5f",
        "colab": {
          "base_uri": "https://localhost:8080/",
          "height": 199
        }
      },
      "execution_count": 6,
      "outputs": [
        {
          "output_type": "error",
          "ename": "NameError",
          "evalue": "ignored",
          "traceback": [
            "\u001b[0;31m---------------------------------------------------------------------------\u001b[0m",
            "\u001b[0;31mNameError\u001b[0m                                 Traceback (most recent call last)",
            "\u001b[0;32m<ipython-input-6-47834ddca7fb>\u001b[0m in \u001b[0;36m<cell line: 2>\u001b[0;34m()\u001b[0m\n\u001b[1;32m      1\u001b[0m \u001b[0;31m#let's print thee first 3 rows\u001b[0m\u001b[0;34m\u001b[0m\u001b[0;34m\u001b[0m\u001b[0m\n\u001b[0;32m----> 2\u001b[0;31m \u001b[0mprint\u001b[0m\u001b[0;34m(\u001b[0m\u001b[0mdf1\u001b[0m\u001b[0;34m.\u001b[0m\u001b[0mhead\u001b[0m\u001b[0;34m(\u001b[0m\u001b[0;36m3\u001b[0m\u001b[0;34m)\u001b[0m\u001b[0;34m)\u001b[0m\u001b[0;34m\u001b[0m\u001b[0;34m\u001b[0m\u001b[0m\n\u001b[0m",
            "\u001b[0;31mNameError\u001b[0m: name 'df1' is not defined"
          ]
        }
      ]
    },
    {
      "cell_type": "code",
      "source": [
        "#let's see all of the values present in the place_of_birth column and the number of occurances for each unique value:\n",
        "df1['place_of_birth'].value_counts()"
      ],
      "metadata": {
        "id": "T__jS7XQZflH"
      },
      "execution_count": null,
      "outputs": []
    },
    {
      "cell_type": "code",
      "source": [
        "#this method gives us some stats about the numerical columns\n",
        "df1.describe()"
      ],
      "metadata": {
        "id": "EWeVnf_EeiQe"
      },
      "execution_count": null,
      "outputs": []
    },
    {
      "cell_type": "code",
      "source": [
        "df1.columns"
      ],
      "metadata": {
        "id": "kuHroRkwqJlZ"
      },
      "execution_count": null,
      "outputs": []
    },
    {
      "cell_type": "markdown",
      "source": [
        "### 2- Subsetting pandas dataframe"
      ],
      "metadata": {
        "id": "6nqBtiKeRWJA"
      }
    },
    {
      "cell_type": "code",
      "source": [
        "#subsetting by column name\n",
        "print(df1['last_name'])"
      ],
      "metadata": {
        "id": "N3eGczIFQDiF"
      },
      "execution_count": null,
      "outputs": []
    },
    {
      "cell_type": "code",
      "source": [
        "#note that the data type of the subset that we get using the format above returns a series\n",
        "type(df1['name'])"
      ],
      "metadata": {
        "id": "oZGSfbPoSuBg"
      },
      "execution_count": null,
      "outputs": []
    },
    {
      "cell_type": "code",
      "source": [
        "#alternatively you can also do it using the method below:\n",
        "print(df1.last_name)"
      ],
      "metadata": {
        "id": "xZPo_0VUSMRi"
      },
      "execution_count": null,
      "outputs": []
    },
    {
      "cell_type": "code",
      "source": [
        "#multiple columns subsetting\n",
        "print(df1[['name', 'last_name']])"
      ],
      "metadata": {
        "id": "Ngmboa5MSQus"
      },
      "execution_count": null,
      "outputs": []
    },
    {
      "cell_type": "code",
      "source": [
        "#subsetting by column index\n",
        "df1.iloc[:, 0]"
      ],
      "metadata": {
        "id": "M1tbB9PORLYy"
      },
      "execution_count": null,
      "outputs": []
    },
    {
      "cell_type": "code",
      "source": [
        "#subsetting by row index\n",
        "df1.iloc[0, :]"
      ],
      "metadata": {
        "id": "rxxI6pCrRmsM"
      },
      "execution_count": null,
      "outputs": []
    },
    {
      "cell_type": "code",
      "source": [
        "# you can select multiple columns or rows using the indexing method. This returns a new data frame. no longer a series\n",
        "df1.iloc[0:2, 2:5]"
      ],
      "metadata": {
        "id": "dl4Gr9H9RtGF"
      },
      "execution_count": null,
      "outputs": []
    },
    {
      "cell_type": "markdown",
      "source": [
        "Condition/Boolean subsetting:"
      ],
      "metadata": {
        "id": "B7GeipuDIMay"
      }
    },
    {
      "cell_type": "code",
      "source": [
        "df1[df1[\"place_of_birth\"] == \"USA\"]"
      ],
      "metadata": {
        "id": "7O1DPJGFHaHB"
      },
      "execution_count": null,
      "outputs": []
    },
    {
      "cell_type": "code",
      "source": [
        "df1[df1[\"age\"]<=66]"
      ],
      "metadata": {
        "id": "c-H6-RFcHfzZ"
      },
      "execution_count": null,
      "outputs": []
    },
    {
      "cell_type": "markdown",
      "source": [
        "## 3- Grouping data based on shared values"
      ],
      "metadata": {
        "id": "_0ZoWTbHXfv0"
      }
    },
    {
      "cell_type": "code",
      "source": [
        "#let's group all the people in our dataframe based on their country of birth.\n",
        "#For example, we expect all people from USA to somehow end up together.\n",
        "# in the example below, we say hey, give me a list of names for all people with the same place of birth.\n",
        "df1.groupby(\"place_of_birth\").agg({'name':list})"
      ],
      "metadata": {
        "id": "tdAfcrAgXlUd"
      },
      "execution_count": null,
      "outputs": []
    },
    {
      "cell_type": "markdown",
      "source": [
        "In the code above, we are grouping rows of data based on place of birth, and we are aggregating the names column as a list. For aggregation, there are other possibilities. For example, we can sum all the numeric values, find the min, max etc. There are different ways that we can aggregate these grouped rows."
      ],
      "metadata": {
        "id": "NyqZw1QeYLwl"
      }
    },
    {
      "cell_type": "code",
      "source": [
        "#here we say give me the smallest age from all the people from the same country:\n",
        "df1.groupby(\"place_of_birth\").agg({'age':min})"
      ],
      "metadata": {
        "id": "_IB-piq8YKAj"
      },
      "execution_count": null,
      "outputs": []
    },
    {
      "cell_type": "code",
      "source": [
        "# groupby more than one column.print the mean of other vals (that are numeric)\n",
        "means = df1.groupby(['place_of_birth', 'gender']).mean(numeric_only=True)\n",
        "means"
      ],
      "metadata": {
        "id": "9NE7YfWgd3SD"
      },
      "execution_count": null,
      "outputs": []
    },
    {
      "cell_type": "code",
      "source": [
        "#you can use size function to get the size of each created group\n",
        "df1.groupby(['place_of_birth', 'gender']).size()"
      ],
      "metadata": {
        "id": "owJLCSFwfQLG"
      },
      "execution_count": null,
      "outputs": []
    },
    {
      "cell_type": "markdown",
      "source": [
        "more info: https://pandas.pydata.org/docs/reference/api/pandas.DataFrame.aggregate.html"
      ],
      "metadata": {
        "id": "wMV7-P__Y8Qb"
      }
    },
    {
      "cell_type": "markdown",
      "source": [
        "## 4- Merging two dataframes"
      ],
      "metadata": {
        "id": "0V_U2Lx2QpAs"
      }
    },
    {
      "cell_type": "code",
      "source": [
        "#let's create a second dataframe\n",
        "df2 = pd.DataFrame({\"name\": [\"Joe\", \"Albert\"],\"last_name\":[\"Biden\", \"Einstein\"],\"job\":[\"president\", \"physicist\"]})"
      ],
      "metadata": {
        "id": "_68twLamIVnx"
      },
      "execution_count": null,
      "outputs": []
    },
    {
      "cell_type": "code",
      "source": [
        "df2"
      ],
      "metadata": {
        "id": "2amVEtw3I4WR"
      },
      "execution_count": null,
      "outputs": []
    },
    {
      "cell_type": "code",
      "source": [
        "df1"
      ],
      "metadata": {
        "id": "Gpw8nAuOjznH"
      },
      "execution_count": null,
      "outputs": []
    },
    {
      "cell_type": "markdown",
      "source": [
        "We want to merge df2 with our original dataframe df1 so that we have job information as well. We have only job informationn for Joe Biden and Albert Einstein, so for other people the value should be NaN.\n",
        "\n",
        "We want a new merged dataframe for all of the peeople in our original dataframe df1. So, by performing a \"left\" join, we can keep all rows of the first dataframe and add information to it from the second dataframe df2."
      ],
      "metadata": {
        "id": "K34OvKYDKxME"
      }
    },
    {
      "cell_type": "code",
      "source": [
        "\n",
        "df3 = df1.merge(df2, how=\"left\", on=\"name\")\n",
        "print(df3)"
      ],
      "metadata": {
        "id": "r_usbxxZI5Js"
      },
      "execution_count": null,
      "outputs": []
    },
    {
      "cell_type": "markdown",
      "source": [
        "Note that we have specified the merging to occur only based on \"name\" and not both first names and last names. Thus, Joe Biden and Joe Jonas will be both presidents!!\n",
        "Since Joe jonas is obviously not a president, we have to further specify requirements for joining the dataframes."
      ],
      "metadata": {
        "id": "2O2zxiiyMlEw"
      }
    },
    {
      "cell_type": "markdown",
      "source": [
        "Additionally, since column \"last_name\" is present in both dataframes df1 and df2, two columns \"last_name_x\" and \"last_name_y\" have been created to distinguish these two columns with the same name from one another.\n",
        "\n",
        "Let's fix the presidency problem of Joe Jonas:"
      ],
      "metadata": {
        "id": "-p6xVlxFKPVQ"
      }
    },
    {
      "cell_type": "code",
      "source": [
        "df3 = df1.merge(df2, how=\"left\", on=[\"name\", \"last_name\"])\n",
        "print(df3)"
      ],
      "metadata": {
        "id": "9Ro6J9sYI8LZ"
      },
      "execution_count": null,
      "outputs": []
    },
    {
      "cell_type": "markdown",
      "source": [
        "In the cell above, because we are passing more than one column to the \"on=\" field, we have to create a list of columns. Otherwise we will run into an error."
      ],
      "metadata": {
        "id": "Kq9pVQEcKjUa"
      }
    },
    {
      "cell_type": "markdown",
      "source": [
        "Below, you can see what would happen if we do a right join on df1 with df2. In that case, our new merged dataframe will contain all rows of df2 plus any additional information that we gather from df1."
      ],
      "metadata": {
        "id": "-NpGM4tfLxZm"
      }
    },
    {
      "cell_type": "code",
      "source": [
        "merged_df1= df1.merge(df2, how=\"right\", on=[\"name\", \"last_name\"])\n"
      ],
      "metadata": {
        "id": "pwySbL_kLsFH"
      },
      "execution_count": null,
      "outputs": []
    },
    {
      "cell_type": "code",
      "source": [
        "merged_df1"
      ],
      "metadata": {
        "id": "VBaNLhippqFo"
      },
      "execution_count": null,
      "outputs": []
    },
    {
      "cell_type": "code",
      "source": [
        "merged_df2= df2.merge(df1, how = \"left\", on = [\"name\",\"last_name\"])"
      ],
      "metadata": {
        "id": "pjTktMujl4mV"
      },
      "execution_count": null,
      "outputs": []
    },
    {
      "cell_type": "code",
      "source": [
        "merged_df2"
      ],
      "metadata": {
        "id": "3c_MCuZAptd5"
      },
      "execution_count": null,
      "outputs": []
    },
    {
      "cell_type": "code",
      "source": [
        "merged_df1.equals(merged_df2)"
      ],
      "metadata": {
        "id": "bK61NYIepvPE"
      },
      "execution_count": null,
      "outputs": []
    },
    {
      "cell_type": "markdown",
      "source": [
        "What can you do to make the equals() function return True for merged_df1 and merged_df2 (hint: re-arrange the columns!)"
      ],
      "metadata": {
        "id": "EMs0YFZ7kwJz"
      }
    },
    {
      "cell_type": "code",
      "source": [
        "#around 2 lines of code expected"
      ],
      "metadata": {
        "id": "ZgmoBUxAkvdT"
      },
      "execution_count": null,
      "outputs": []
    },
    {
      "cell_type": "markdown",
      "source": [
        "## 5- Transposing a dataframe"
      ],
      "metadata": {
        "id": "GNUD_MTJT0kF"
      }
    },
    {
      "cell_type": "code",
      "source": [
        "df2"
      ],
      "metadata": {
        "id": "g2yboLdsmj_T"
      },
      "execution_count": null,
      "outputs": []
    },
    {
      "cell_type": "code",
      "source": [
        "df5 = df2.T"
      ],
      "metadata": {
        "id": "7crnOFL0KicK"
      },
      "execution_count": null,
      "outputs": []
    },
    {
      "cell_type": "code",
      "source": [
        "df5"
      ],
      "metadata": {
        "id": "IFIh529TVDyH"
      },
      "execution_count": null,
      "outputs": []
    },
    {
      "cell_type": "markdown",
      "source": [
        "## 6- Renaming columns"
      ],
      "metadata": {
        "id": "l9zN_j01UHu1"
      }
    },
    {
      "cell_type": "code",
      "source": [
        "df5.rename(columns={0: \"person_1\", 1: \"person_2\"}, inplace=True)\n"
      ],
      "metadata": {
        "id": "V0I5KtECUGcT"
      },
      "execution_count": null,
      "outputs": []
    },
    {
      "cell_type": "code",
      "source": [
        "df5"
      ],
      "metadata": {
        "id": "IVNi6XYwUSUj"
      },
      "execution_count": null,
      "outputs": []
    },
    {
      "cell_type": "markdown",
      "source": [
        "## 7- Performing operations on data using pandas columns!"
      ],
      "metadata": {
        "id": "b72d5p61V-mx"
      }
    },
    {
      "cell_type": "markdown",
      "source": [
        "### anonymous functions"
      ],
      "metadata": {
        "id": "rqyaXQWOVf2C"
      }
    },
    {
      "cell_type": "code",
      "source": [
        "#lambda is used to define anonymous functions in python\n",
        "# here the input to function is x, the function adds 100 to the input and returns it.\n",
        "df1['age'].apply(lambda x: x+100)\n"
      ],
      "metadata": {
        "id": "Pcp6b_RcUTQu"
      },
      "execution_count": null,
      "outputs": []
    },
    {
      "cell_type": "code",
      "source": [
        "df1['fake_age'] = df1['age'].apply(lambda x: x+100)\n"
      ],
      "metadata": {
        "id": "nLpeVos2VsPY"
      },
      "execution_count": null,
      "outputs": []
    },
    {
      "cell_type": "code",
      "source": [
        "df1"
      ],
      "metadata": {
        "id": "r9c_fHpXV4Ad"
      },
      "execution_count": null,
      "outputs": []
    },
    {
      "cell_type": "code",
      "source": [
        "#we can define our own functions, and then use them on dataframe values.\n",
        "\n",
        "def add_100(x):\n",
        "  return x+100\n",
        "\n",
        "df1['age'].apply(add_100)\n"
      ],
      "metadata": {
        "id": "GRyRIu8iV5m1"
      },
      "execution_count": null,
      "outputs": []
    },
    {
      "cell_type": "code",
      "source": [
        "#in some cases, can use vectorized operations (faster than apply method)\n",
        "\n",
        "df1['very_fake_age'] = df1['age']+df1['fake_age']\n",
        "\n"
      ],
      "metadata": {
        "id": "2CdRA2aeWUCl"
      },
      "execution_count": null,
      "outputs": []
    },
    {
      "cell_type": "code",
      "source": [
        "df1\n"
      ],
      "metadata": {
        "id": "Rg-8G1otWlh6"
      },
      "execution_count": null,
      "outputs": []
    },
    {
      "cell_type": "markdown",
      "source": [
        "### Sorting values"
      ],
      "metadata": {
        "id": "QIoR-Kbrq_xr"
      }
    },
    {
      "cell_type": "code",
      "source": [
        "df1.sort_values(by='age', ascending = False)"
      ],
      "metadata": {
        "id": "yik-ueeIrDO5"
      },
      "execution_count": null,
      "outputs": []
    },
    {
      "cell_type": "markdown",
      "source": [
        "## 8- Visualization Examples"
      ],
      "metadata": {
        "id": "yue7JsqRZN8w"
      }
    },
    {
      "cell_type": "code",
      "source": [
        "#let's create piechart of people based on their place of birth\n",
        "plt.pie(df1['place_of_birth'].value_counts(), labels=df1['place_of_birth'].value_counts().index)\n",
        "plt.title(\"Place of birth\")\n",
        "plt.show()"
      ],
      "metadata": {
        "id": "FJOtmAG8WnG1"
      },
      "execution_count": null,
      "outputs": []
    },
    {
      "cell_type": "code",
      "source": [
        "#let's create a scatter plot based on age and height\n",
        "plt.scatter(df1['age'], df1['height'])\n",
        "plt.title(\"Age vs height\")\n",
        "plt.show()\n"
      ],
      "metadata": {
        "id": "44EgmblfZ53Z"
      },
      "execution_count": null,
      "outputs": []
    },
    {
      "cell_type": "code",
      "source": [
        "#let's create a histogram based on age\n",
        "plt.hist(df1['age'])\n",
        "plt.title(\"Age histogram\")\n",
        "plt.xlabel(\"Age\")\n",
        "plt.ylabel(\"Frequency\")\n",
        "plt.show()"
      ],
      "metadata": {
        "id": "434e_QC5bM-F"
      },
      "execution_count": null,
      "outputs": []
    },
    {
      "cell_type": "code",
      "source": [
        "# plotting\n",
        "counts = df1.groupby('gender').size()\n",
        "plt.figure()\n",
        "counts.plot.bar(title='Frequency of gender values (Histogram of gender values)')\n",
        "plt.show()"
      ],
      "metadata": {
        "id": "8FEyrPLpe5mr"
      },
      "execution_count": null,
      "outputs": []
    },
    {
      "cell_type": "markdown",
      "source": [
        "### 9- Importing and Exporting Files"
      ],
      "metadata": {
        "id": "qb_vJme4cSJI"
      }
    },
    {
      "cell_type": "code",
      "source": [
        "#example of writing to a csv file\n",
        "#check that the file has been written to files folder on the left hand-side bar\n",
        "df1.to_csv(\"df1.csv\")"
      ],
      "metadata": {
        "id": "GScBxlJ7cReD"
      },
      "execution_count": null,
      "outputs": []
    },
    {
      "cell_type": "code",
      "source": [
        "#example of readinng from a csv file\n",
        "mydf = pd.read_csv(\"sample_data/mnist_test.csv\")"
      ],
      "metadata": {
        "id": "rKR7skrecc94"
      },
      "execution_count": null,
      "outputs": []
    },
    {
      "cell_type": "code",
      "source": [
        "mydf.head()"
      ],
      "metadata": {
        "id": "PWQpMSYtc5Cj"
      },
      "execution_count": null,
      "outputs": []
    },
    {
      "cell_type": "code",
      "source": [
        "#example of writing to a text file\n",
        "#confirm that the file has been created.\n",
        "with open(r\"python_love.txt\", \"w+\") as f:\n",
        "    f.write(\"I love our big data class! :D \")\n"
      ],
      "metadata": {
        "id": "CFLo-AS-dAru"
      },
      "execution_count": null,
      "outputs": []
    },
    {
      "cell_type": "code",
      "source": [
        "#example of reading from a text file\n",
        "with open(r\"python_love.txt\", \"r\") as f:\n",
        "    lines = f.read()"
      ],
      "metadata": {
        "id": "-q-M4fhKdYI8"
      },
      "execution_count": null,
      "outputs": []
    },
    {
      "cell_type": "code",
      "source": [
        "lines"
      ],
      "metadata": {
        "id": "CT_cKpu4dlPL"
      },
      "execution_count": null,
      "outputs": []
    },
    {
      "cell_type": "markdown",
      "source": [
        "There are tons and tons of possibilities with python. It is impossible to showcase them all here, but these were some basics. You can always find some interesting possibilities when looking in documentations."
      ],
      "metadata": {
        "id": "uh4CP4dZWxlR"
      }
    },
    {
      "cell_type": "markdown",
      "source": [
        "For more pandas dataframe functions, please refer to the documentations: https://pandas.pydata.org/docs/user_guide/index.html"
      ],
      "metadata": {
        "id": "hf34OPADQFmX"
      }
    },
    {
      "cell_type": "markdown",
      "source": [
        "## Practice Time"
      ],
      "metadata": {
        "id": "dAC34mFce2D4"
      }
    },
    {
      "cell_type": "markdown",
      "source": [
        "Anscombe's quartet"
      ],
      "metadata": {
        "id": "B0tm9s9dlUpw"
      }
    },
    {
      "cell_type": "markdown",
      "source": [
        "You have the Anscombe's quartet dataset under the sample data folder in this colab. There are different Series in this dataset.\n",
        "Let's load the dataset into a dataframe"
      ],
      "metadata": {
        "id": "6kZUEF9WjXyq"
      }
    },
    {
      "cell_type": "code",
      "source": [
        "# 1 line of code expected"
      ],
      "metadata": {
        "id": "gWuHHqOFjmJC"
      },
      "execution_count": null,
      "outputs": []
    },
    {
      "cell_type": "markdown",
      "source": [
        "Let's print basic descriptive statistics for each series. Output the mean and standard deviation for both X and Y in each series."
      ],
      "metadata": {
        "id": "szE4ndEijthQ"
      }
    },
    {
      "cell_type": "code",
      "source": [
        "# 3 lines of code expected (could vary depending on your style and approach)"
      ],
      "metadata": {
        "id": "xXu5PODdjsGp"
      },
      "execution_count": null,
      "outputs": []
    },
    {
      "cell_type": "markdown",
      "source": [
        "What do you see? How do the results compare?"
      ],
      "metadata": {
        "id": "szRa09zckVMv"
      }
    },
    {
      "cell_type": "markdown",
      "source": [
        "Now, let's plot a scatterplot for each series in our dataset."
      ],
      "metadata": {
        "id": "N9j0Eej0kavb"
      }
    },
    {
      "cell_type": "code",
      "source": [
        "# about 6-10 lines of code expected (could vary depending on your style and approach)"
      ],
      "metadata": {
        "id": "bb60dZigkI4_"
      },
      "execution_count": null,
      "outputs": []
    },
    {
      "cell_type": "markdown",
      "source": [
        "Now you see why visualization matters! :)"
      ],
      "metadata": {
        "id": "icOYHE-qkh0a"
      }
    },
    {
      "cell_type": "code",
      "source": [],
      "metadata": {
        "id": "VQDupi_qkgcv"
      },
      "execution_count": null,
      "outputs": []
    }
  ]
}